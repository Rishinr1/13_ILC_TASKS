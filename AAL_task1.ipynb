{
 "cells": [
  {
   "cell_type": "code",
   "execution_count": 26,
   "metadata": {},
   "outputs": [],
   "source": [
    "import dask.dataframe as dd\n",
    "from dask.distributed import Client\n",
    "import os\n",
    "import pandas as pd\n",
    "import pyarrow as pa\n",
    "import pyarrow.parquet as pq"
   ]
  },
  {
   "cell_type": "code",
   "execution_count": 2,
   "metadata": {},
   "outputs": [],
   "source": [
    "speriod=int(input(\"Enter the simulation period: \"))\n",
    "samples=int(input(\"Enter the number of samples: \"))"
   ]
  },
  {
   "cell_type": "code",
   "execution_count": null,
   "metadata": {},
   "outputs": [],
   "source": [
    "# # Group by 'LNM' and calculate the sum of 'lSS'\n",
    "# result_df = sample_df.groupby('LNM').agg({'lSS': 'sum'}).reset_index()\n",
    "\n",
    "# # Perform the division as per your requirement\n",
    "# result_df['final_result'] = (result_df['lSS'] / 50000) / 5\n",
    "\n",
    "# # Print the final dataframe\n",
    "# print(result_df)"
   ]
  },
  {
   "cell_type": "code",
   "execution_count": 27,
   "metadata": {},
   "outputs": [
    {
     "name": "stdout",
     "output_type": "stream",
     "text": [
      "Aggregated DataFrame written to D:\\RISHIN\\13_ILC_TASK1\\output\\aggregated_by_LobName.parquet\n"
     ]
    }
   ],
   "source": [
    "import pyarrow.parquet as pq\n",
    "import pyarrow as pa\n",
    "import pandas as pd\n",
    "import os\n",
    "\n",
    "# Define the folder containing the Parquet files\n",
    "folder_path = r'D:\\RISHIN\\13_ILC_TASK1\\input\\PARQUET_FILES'\n",
    "\n",
    "# List all Parquet files in the folder\n",
    "parquet_files = [os.path.join(folder_path, f) for f in os.listdir(folder_path) if f.endswith('.parquet')]\n",
    "\n",
    "# Output path for the aggregated Parquet file\n",
    "output_path = r'D:\\RISHIN\\13_ILC_TASK1\\output\\aggregated_by_LobName.parquet'\n",
    "\n",
    "# Initialize an empty DataFrame to store the aggregated results\n",
    "aggregated_df = pd.DataFrame()\n",
    "\n",
    "# Process each Parquet file individually\n",
    "for file in parquet_files:\n",
    "    # Read the Parquet file into a PyArrow Table\n",
    "    table = pq.read_table(file)\n",
    "    \n",
    "    # Convert the PyArrow Table to a Pandas DataFrame\n",
    "    df = table.to_pandas()\n",
    "    \n",
    "    # Perform the aggregation: sum the Loss column grouped by LobName\n",
    "    grouped = df.groupby('LobName', as_index=False).agg({'Loss': 'sum'})\n",
    "    \n",
    "    # Calculate AAL\n",
    "    grouped['AAL'] = grouped['Loss'] / speriod / samples\n",
    "    \n",
    "    # Append the grouped DataFrame to the aggregated DataFrame\n",
    "    aggregated_df = pd.concat([aggregated_df, grouped[['LobName', 'AAL']]], ignore_index=True)\n",
    "\n",
    "# Group the aggregated DataFrame again to ensure all groups are combined\n",
    "final_grouped = aggregated_df.groupby('LobName', as_index=False).agg({'AAL': 'sum'})\n",
    "\n",
    "# Sort the final grouped DataFrame by 'LobName'\n",
    "final_grouped = final_grouped.sort_values(by='LobName')\n",
    "\n",
    "# Convert the final grouped DataFrame to a PyArrow Table\n",
    "final_table = pa.Table.from_pandas(final_grouped)\n",
    "\n",
    "# Write the final Table to the output Parquet file\n",
    "pq.write_table(final_table, output_path)\n",
    "\n",
    "print(f\"Aggregated DataFrame written to {output_path}\")"
   ]
  },
  {
   "cell_type": "code",
   "execution_count": 28,
   "metadata": {},
   "outputs": [],
   "source": [
    "\n",
    "\n",
    "file_path = r'D:\\RISHIN\\13_ILC_TASK1\\output\\aggregated_by_LobName.parquet'\n",
    "\n",
    "table = pq.read_table(file_path)\n",
    "\n",
    "df = table.to_pandas()\n",
    "\n"
   ]
  },
  {
   "cell_type": "code",
   "execution_count": 29,
   "metadata": {},
   "outputs": [
    {
     "data": {
      "text/html": [
       "<div>\n",
       "<style scoped>\n",
       "    .dataframe tbody tr th:only-of-type {\n",
       "        vertical-align: middle;\n",
       "    }\n",
       "\n",
       "    .dataframe tbody tr th {\n",
       "        vertical-align: top;\n",
       "    }\n",
       "\n",
       "    .dataframe thead th {\n",
       "        text-align: right;\n",
       "    }\n",
       "</style>\n",
       "<table border=\"1\" class=\"dataframe\">\n",
       "  <thead>\n",
       "    <tr style=\"text-align: right;\">\n",
       "      <th></th>\n",
       "      <th>LobName</th>\n",
       "      <th>AAL</th>\n",
       "    </tr>\n",
       "  </thead>\n",
       "  <tbody>\n",
       "    <tr>\n",
       "      <th>0</th>\n",
       "      <td>AGR</td>\n",
       "      <td>1.673495e+07</td>\n",
       "    </tr>\n",
       "    <tr>\n",
       "      <th>1</th>\n",
       "      <td>AUTO</td>\n",
       "      <td>1.233376e+07</td>\n",
       "    </tr>\n",
       "    <tr>\n",
       "      <th>2</th>\n",
       "      <td>COM</td>\n",
       "      <td>4.390605e+07</td>\n",
       "    </tr>\n",
       "    <tr>\n",
       "      <th>3</th>\n",
       "      <td>IND</td>\n",
       "      <td>1.612160e+07</td>\n",
       "    </tr>\n",
       "    <tr>\n",
       "      <th>4</th>\n",
       "      <td>SPER</td>\n",
       "      <td>1.637329e+08</td>\n",
       "    </tr>\n",
       "  </tbody>\n",
       "</table>\n",
       "</div>"
      ],
      "text/plain": [
       "  LobName           AAL\n",
       "0     AGR  1.673495e+07\n",
       "1    AUTO  1.233376e+07\n",
       "2     COM  4.390605e+07\n",
       "3     IND  1.612160e+07\n",
       "4    SPER  1.637329e+08"
      ]
     },
     "execution_count": 29,
     "metadata": {},
     "output_type": "execute_result"
    }
   ],
   "source": [
    "df"
   ]
  },
  {
   "cell_type": "code",
   "execution_count": null,
   "metadata": {},
   "outputs": [],
   "source": []
  }
 ],
 "metadata": {
  "kernelspec": {
   "display_name": "env",
   "language": "python",
   "name": "python3"
  },
  "language_info": {
   "codemirror_mode": {
    "name": "ipython",
    "version": 3
   },
   "file_extension": ".py",
   "mimetype": "text/x-python",
   "name": "python",
   "nbconvert_exporter": "python",
   "pygments_lexer": "ipython3",
   "version": "3.11.3"
  }
 },
 "nbformat": 4,
 "nbformat_minor": 2
}
